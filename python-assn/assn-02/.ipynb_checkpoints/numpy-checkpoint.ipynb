{
 "cells": [
  {
   "cell_type": "markdown",
   "metadata": {},
   "source": [
    "Numpy exercise\n",
    "===\n",
    "\n",
    "This exercise is designed to get you familiarised with numpy and shows the most common operations that you will perform in the future.\n",
    "\n",
    "You will need the Iris.csv file from the GitHub repositry to perform this exercise.\n",
    "\n",
    "Write your code in the following way:\n",
    "#################################<br>\n",
    "\n",
    "Your code here\n",
    "#################################"
   ]
  },
  {
   "cell_type": "code",
   "execution_count": 2,
   "metadata": {
    "collapsed": true
   },
   "outputs": [],
   "source": [
    "import numpy as np"
   ]
  },
  {
   "cell_type": "code",
   "execution_count": 3,
   "metadata": {
    "collapsed": false
   },
   "outputs": [
    {
     "name": "stdout",
     "output_type": "stream",
     "text": [
      "[[ 0  1  2  3]\n",
      " [ 4  5  6  7]\n",
      " [ 8  9 10 11]\n",
      " [12 13 14 15]]\n"
     ]
    }
   ],
   "source": [
    "A=np.arange(16)   #This creates a vector with values from 0 to 15.\n",
    "\n",
    "#Reshape A into a 4x4 numpy array and print the array\n",
    "#################################\n",
    "print(np.resize(A,(4,4)))\n",
    "#################################"
   ]
  },
  {
   "cell_type": "markdown",
   "metadata": {},
   "source": [
    "Expected output:<br>\n",
    "[[ 0  1  2  3]\n",
    " [ 4  5  6  7]\n",
    " [ 8  9 10 11]\n",
    " [12 13 14 15]]"
   ]
  },
  {
   "cell_type": "code",
   "execution_count": 4,
   "metadata": {
    "collapsed": false,
    "scrolled": true
   },
   "outputs": [
    {
     "name": "stdout",
     "output_type": "stream",
     "text": [
      "[[  0   1   4   9]\n",
      " [ 16  25  36  49]\n",
      " [ 64  81 100 121]\n",
      " [144 169 196 225]]\n"
     ]
    }
   ],
   "source": [
    "#Create another array B which is made of square of each elements of B and print B.\n",
    "#################################\n",
    "B=np.square(A)\n",
    "\n",
    "print(np.resize(B,(4,4)))\n",
    "#################################"
   ]
  },
  {
   "cell_type": "markdown",
   "metadata": {},
   "source": [
    "Expected output:<br>\n",
    "[[  0   1   4   9]\n",
    " [ 16  25  36  49]\n",
    " [ 64  81 100 121]\n",
    " [144 169 196 225]]\n"
   ]
  },
  {
   "cell_type": "code",
   "execution_count": 55,
   "metadata": {
    "collapsed": false
   },
   "outputs": [
    {
     "data": {
      "text/plain": [
       "array([[ 35.0265107 ,  -1.2916513 , -27.01472927,  41.9706085 ,\n",
       "        -40.7716668 , -24.4861161 ,  87.83272046,  -3.11720271,\n",
       "         21.18579012, -19.82497199]])"
      ]
     },
     "execution_count": 55,
     "metadata": {},
     "output_type": "execute_result"
    }
   ],
   "source": [
    "#Create a numpy array of shape (28,28) whose values are chosen randomly from 0-255\n",
    "#################################\n",
    "X=np.random.randint(low=0,high=256,size=[28,28])\n",
    "\n",
    "#################################\n",
    "\n",
    "#Convert x into a vector (Make it of single dimension)\n",
    "#################################\n",
    "X=np.resize(X,(1,28*28))\n",
    "#################################\n",
    "\n",
    "#Add the number 1 at the start of x\n",
    "# e.g.: If x is [3,2,5,7,5,...], new x should be [1,3,2,5,7,5,...]\n",
    "#################################\n",
    "X=np.append(np.array([1]),X)\n",
    "X=np.resize(X,(1,28*28+1))\n",
    "#################################\n",
    "\n",
    "#Create  vector W of shape (785,10) whose values follow a normal distribution with mean=0 and standard dev=0.01\n",
    "#################################\n",
    "W=np.random.normal(0,0.01,(785,10))\n",
    "#################################\n",
    "\n",
    "#Multiply the 2 matrices W and x. (Keep in mind the shape of the two)\n",
    "#################################\n",
    "np.matmul(X,W)\n",
    "\n",
    "#################################"
   ]
  },
  {
   "cell_type": "code",
   "execution_count": 127,
   "metadata": {
    "collapsed": false
   },
   "outputs": [
    {
     "name": "stdout",
     "output_type": "stream",
     "text": [
      "[ 2.  1.  0.  0.  2.  2.  1.  1.  0.  0.  2.  1.  0.  0.  2.  2.  1.  0.\n",
      "  0.  1.  1.  2.  2.  1.  0.  1.  0.  2.  2.  1.  2.  2.  0.  2.  2.  1.\n",
      "  2.  1.  2.  2.  0.  1.  0.  0.  1.  2.  0.  0.  1.  2.  0.  2.  2.  0.\n",
      "  1.  1.  2.  0.  0.  2.  1.  1.  1.  2.  1.  0.  2.  1.  1.  1.  1.  1.\n",
      "  2.  0.  1.  2.  0.  2.  1.  1.  1.  1.  1.  0.  0.  0.  1.  0.  1.  2.\n",
      "  0.  0.  1.  0.  2.  0.  1.  0.  0.  1.  2.  2.  1.  0.  2.  2.  0.  0.\n",
      "  2.  0.  1.  2.  1.  2.  1.  0.  0.  2.  2.  0.  0.  0.  0.  2.  0.  1.\n",
      "  1.  0.  1.  1.  2.  1.  1.  2.  2.  0.  2.  0.  2.  2.  1.  0.  0.  2.\n",
      "  2.  2.  1.  1.  0.  2.]\n"
     ]
    }
   ],
   "source": [
    "#Load the Iris.csv file into numpy array 'data' and shuffle the data.(The data array should contain rows in random order)\n",
    "#################################\n",
    "mydata=np.genfromtxt('Iris.csv',delimiter=',')\n",
    "np.random.shuffle(mydata)\n",
    "#################################\n",
    "\n",
    "\n",
    "#Create a numpy array X that contains the firts 4 columns of data. Keep the last column of data in numpy array y.\n",
    "#################################\n",
    "X=np.array(mydata[:,0:4])\n",
    "Y=np.array(mydata[:,4])\n",
    "#################################"
   ]
  },
  {
   "cell_type": "code",
   "execution_count": 143,
   "metadata": {
    "collapsed": false
   },
   "outputs": [
    {
     "name": "stdout",
     "output_type": "stream",
     "text": [
      "[[ 6.4  2.8  5.6  2.2  2. ]\n",
      " [ 5.9  3.   4.2  1.5  1. ]\n",
      " [ 5.   3.6  1.4  0.2  0. ]\n",
      " [ 4.5  2.3  1.3  0.3  0. ]\n",
      " [ 6.5  3.   5.2  2.   2. ]\n",
      " [ 5.6  2.8  4.9  2.   2. ]\n",
      " [ 5.5  2.4  3.8  1.1  1. ]\n",
      " [ 6.6  2.9  4.6  1.3  1. ]\n",
      " [ 5.1  3.8  1.9  0.4  0. ]\n",
      " [ 5.4  3.9  1.7  0.4  0. ]]\n",
      "[[ 6.2  2.2  4.5  1.5  1. ]\n",
      " [ 4.8  3.1  1.6  0.2  0. ]\n",
      " [ 4.9  3.1  1.5  0.1  0. ]\n",
      " [ 7.2  3.2  6.   1.8  2. ]\n",
      " [ 6.9  3.2  5.7  2.3  2. ]\n",
      " [ 5.8  2.7  5.1  1.9  2. ]\n",
      " [ 6.   3.4  4.5  1.6  1. ]\n",
      " [ 6.6  3.   4.4  1.4  1. ]\n",
      " [ 4.6  3.1  1.5  0.2  0. ]\n",
      " [ 7.9  3.8  6.4  2.   2. ]]\n"
     ]
    }
   ],
   "source": [
    "# Print the following:\n",
    "# 1) First 10 values of data\n",
    "# 2) Last 10 values of data\n",
    "# 3) All rows of X whose corresponding value in y is 2\n",
    "\n",
    "#################################\n",
    "print(mydata[0:10])\n",
    "size=int(mydata.size)//5\n",
    "print(mydata[size-10:size])\n",
    "#################################"
   ]
  },
  {
   "cell_type": "code",
   "execution_count": 158,
   "metadata": {
    "collapsed": false
   },
   "outputs": [
    {
     "data": {
      "text/plain": [
       "array([[0, 0, 1],\n",
       "       [0, 1, 0],\n",
       "       [1, 0, 0],\n",
       "       [1, 0, 0],\n",
       "       [0, 0, 1],\n",
       "       [0, 0, 1],\n",
       "       [0, 1, 0],\n",
       "       [0, 1, 0],\n",
       "       [1, 0, 0],\n",
       "       [1, 0, 0],\n",
       "       [0, 0, 1],\n",
       "       [0, 1, 0],\n",
       "       [1, 0, 0],\n",
       "       [1, 0, 0],\n",
       "       [0, 0, 1],\n",
       "       [0, 0, 1],\n",
       "       [0, 1, 0],\n",
       "       [1, 0, 0],\n",
       "       [1, 0, 0],\n",
       "       [0, 1, 0],\n",
       "       [0, 1, 0],\n",
       "       [0, 0, 1],\n",
       "       [0, 0, 1],\n",
       "       [0, 1, 0],\n",
       "       [1, 0, 0],\n",
       "       [0, 1, 0],\n",
       "       [1, 0, 0],\n",
       "       [0, 0, 1],\n",
       "       [0, 0, 1],\n",
       "       [0, 1, 0],\n",
       "       [0, 0, 1],\n",
       "       [0, 0, 1],\n",
       "       [1, 0, 0],\n",
       "       [0, 0, 1],\n",
       "       [0, 0, 1],\n",
       "       [0, 1, 0],\n",
       "       [0, 0, 1],\n",
       "       [0, 1, 0],\n",
       "       [0, 0, 1],\n",
       "       [0, 0, 1],\n",
       "       [1, 0, 0],\n",
       "       [0, 1, 0],\n",
       "       [1, 0, 0],\n",
       "       [1, 0, 0],\n",
       "       [0, 1, 0],\n",
       "       [0, 0, 1],\n",
       "       [1, 0, 0],\n",
       "       [1, 0, 0],\n",
       "       [0, 1, 0],\n",
       "       [0, 0, 1],\n",
       "       [1, 0, 0],\n",
       "       [0, 0, 1],\n",
       "       [0, 0, 1],\n",
       "       [1, 0, 0],\n",
       "       [0, 1, 0],\n",
       "       [0, 1, 0],\n",
       "       [0, 0, 1],\n",
       "       [1, 0, 0],\n",
       "       [1, 0, 0],\n",
       "       [0, 0, 1],\n",
       "       [0, 1, 0],\n",
       "       [0, 1, 0],\n",
       "       [0, 1, 0],\n",
       "       [0, 0, 1],\n",
       "       [0, 1, 0],\n",
       "       [1, 0, 0],\n",
       "       [0, 0, 1],\n",
       "       [0, 1, 0],\n",
       "       [0, 1, 0],\n",
       "       [0, 1, 0],\n",
       "       [0, 1, 0],\n",
       "       [0, 1, 0],\n",
       "       [0, 0, 1],\n",
       "       [1, 0, 0],\n",
       "       [0, 1, 0],\n",
       "       [0, 0, 1],\n",
       "       [1, 0, 0],\n",
       "       [0, 0, 1],\n",
       "       [0, 1, 0],\n",
       "       [0, 1, 0],\n",
       "       [0, 1, 0],\n",
       "       [0, 1, 0],\n",
       "       [0, 1, 0],\n",
       "       [1, 0, 0],\n",
       "       [1, 0, 0],\n",
       "       [1, 0, 0],\n",
       "       [0, 1, 0],\n",
       "       [1, 0, 0],\n",
       "       [0, 1, 0],\n",
       "       [0, 0, 1],\n",
       "       [1, 0, 0],\n",
       "       [1, 0, 0],\n",
       "       [0, 1, 0],\n",
       "       [1, 0, 0],\n",
       "       [0, 0, 1],\n",
       "       [1, 0, 0],\n",
       "       [0, 1, 0],\n",
       "       [1, 0, 0],\n",
       "       [1, 0, 0],\n",
       "       [0, 1, 0],\n",
       "       [0, 0, 1],\n",
       "       [0, 0, 1],\n",
       "       [0, 1, 0],\n",
       "       [1, 0, 0],\n",
       "       [0, 0, 1],\n",
       "       [0, 0, 1],\n",
       "       [1, 0, 0],\n",
       "       [1, 0, 0],\n",
       "       [0, 0, 1],\n",
       "       [1, 0, 0],\n",
       "       [0, 1, 0],\n",
       "       [0, 0, 1],\n",
       "       [0, 1, 0],\n",
       "       [0, 0, 1],\n",
       "       [0, 1, 0],\n",
       "       [1, 0, 0],\n",
       "       [1, 0, 0],\n",
       "       [0, 0, 1],\n",
       "       [0, 0, 1],\n",
       "       [1, 0, 0],\n",
       "       [1, 0, 0],\n",
       "       [1, 0, 0],\n",
       "       [1, 0, 0],\n",
       "       [0, 0, 1],\n",
       "       [1, 0, 0],\n",
       "       [0, 1, 0],\n",
       "       [0, 1, 0],\n",
       "       [1, 0, 0],\n",
       "       [0, 1, 0],\n",
       "       [0, 1, 0],\n",
       "       [0, 0, 1],\n",
       "       [0, 1, 0],\n",
       "       [0, 1, 0],\n",
       "       [0, 0, 1],\n",
       "       [0, 0, 1],\n",
       "       [1, 0, 0],\n",
       "       [0, 0, 1],\n",
       "       [1, 0, 0],\n",
       "       [0, 0, 1],\n",
       "       [0, 0, 1],\n",
       "       [0, 1, 0],\n",
       "       [1, 0, 0],\n",
       "       [1, 0, 0],\n",
       "       [0, 0, 1],\n",
       "       [0, 0, 1],\n",
       "       [0, 0, 1],\n",
       "       [0, 1, 0],\n",
       "       [0, 1, 0],\n",
       "       [1, 0, 0],\n",
       "       [0, 0, 1]])"
      ]
     },
     "execution_count": 158,
     "metadata": {},
     "output_type": "execute_result"
    }
   ],
   "source": [
    "# Create a numpy array y1 of same length as y and number of columns 3. \n",
    "# Values of y1 are such that,\n",
    "# If y contains 0, y1 should have (1,0,0)\n",
    "# If y contains 1, y1 should have (0,1,0)\n",
    "# If y contains 2, y1 should have (0,0,1)\n",
    "# This type of encoding is known as one-hot encoding\n",
    "\n",
    "y1=np.full((size,3),0)\n",
    "count=0\n",
    "for i in Y:\n",
    "    index=(int(i)%3)\n",
    "    y1[count][index]=1\n",
    "    count=count+1\n",
    "y1"
   ]
  }
 ],
 "metadata": {
  "kernelspec": {
   "display_name": "Python 3",
   "language": "python",
   "name": "python3"
  },
  "language_info": {
   "codemirror_mode": {
    "name": "ipython",
    "version": 3
   },
   "file_extension": ".py",
   "mimetype": "text/x-python",
   "name": "python",
   "nbconvert_exporter": "python",
   "pygments_lexer": "ipython3",
   "version": "3.6.3"
  }
 },
 "nbformat": 4,
 "nbformat_minor": 2
}
